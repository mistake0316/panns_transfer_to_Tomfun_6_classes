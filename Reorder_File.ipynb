{
 "cells": [
  {
   "cell_type": "code",
   "execution_count": 43,
   "metadata": {},
   "outputs": [],
   "source": [
    "import sys\n",
    "import os\n",
    "sys.path.insert(1, os.path.join(sys.path[0], 'utils'))\n",
    "import pathlib\n",
    "import glob\n",
    "import config\n",
    "import pandas as pd\n",
    "from shutil import copyfile\n",
    "from tqdm.auto import tqdm"
   ]
  },
  {
   "cell_type": "code",
   "execution_count": 21,
   "metadata": {},
   "outputs": [],
   "source": [
    "def get_label_map(path=\"meta_train.csv\"):\n",
    "  label_df = pd.read_csv(path)\n",
    "  filename_to_label_map = {}\n",
    "  for idx, (file_name, label, remark) in label_df.iterrows():\n",
    "    assert file_name not in filename_to_label_map\n",
    "    filename_to_label_map[file_name] = label\n",
    "  return filename_to_label_map\n",
    "\n",
    "filename_to_label_map = get_label_map()"
   ]
  },
  {
   "cell_type": "code",
   "execution_count": 29,
   "metadata": {},
   "outputs": [
    {
     "data": {
      "text/plain": [
       "{0: 'Barking',\n",
       " 1: 'Howling',\n",
       " 2: 'Crying',\n",
       " 3: 'COSmoke',\n",
       " 4: 'GlassBreaking',\n",
       " 5: 'Other'}"
      ]
     },
     "execution_count": 29,
     "metadata": {},
     "output_type": "execute_result"
    }
   ],
   "source": [
    "config.idx_to_lb"
   ]
  },
  {
   "cell_type": "markdown",
   "metadata": {},
   "source": [
    "# gen train"
   ]
  },
  {
   "cell_type": "code",
   "execution_count": 44,
   "metadata": {},
   "outputs": [
    {
     "data": {
      "application/vnd.jupyter.widget-view+json": {
       "model_id": "08020fb49d0f420eaa90f575d9225cc8",
       "version_major": 2,
       "version_minor": 0
      },
      "text/plain": [
       "  0%|          | 0/1199 [00:00<?, ?it/s]"
      ]
     },
     "metadata": {},
     "output_type": "display_data"
    }
   ],
   "source": [
    "basefolder = \"train\"\n",
    "for filepath in tqdm(sorted(glob.glob(f\"{basefolder}/*.wav\"))):\n",
    "  filename = filepath.split(\"/\")[-1].split(\".\")[0]\n",
    "  \n",
    "  label = filename_to_label_map[filename]\n",
    "  pseudo_remark = config.idx_to_lb[label]\n",
    "  \n",
    "  parent = f\"{basefolder}_transfered/{pseudo_remark}\"\n",
    "  pathlib.Path(parent).mkdir(parents=True, exist_ok=True)\n",
    "  \n",
    "  newfilename = \".\".join([pseudo_remark, filepath.split('/')[-1]])\n",
    "  new_dst = \"/\".join([parent, newfilename])\n",
    "  \n",
    "  copyfile(filepath, new_dst)"
   ]
  },
  {
   "cell_type": "markdown",
   "metadata": {},
   "source": [
    "# gen public test"
   ]
  },
  {
   "cell_type": "code",
   "execution_count": 46,
   "metadata": {},
   "outputs": [
    {
     "data": {
      "application/vnd.jupyter.widget-view+json": {
       "model_id": "c9a9ef60cfbc4379a593c06a4bdc197b",
       "version_major": 2,
       "version_minor": 0
      },
      "text/plain": [
       "  0%|          | 0/10000 [00:00<?, ?it/s]"
      ]
     },
     "metadata": {},
     "output_type": "display_data"
    }
   ],
   "source": [
    "basefolder = \"public_test\"\n",
    "for filepath in tqdm(sorted(glob.glob(f\"{basefolder}/*.wav\"))):\n",
    "  filename = filepath.split(\"/\")[-1].split(\".\")[0]\n",
    "  \n",
    "  label = 5\n",
    "  pseudo_remark = config.idx_to_lb[label]\n",
    "  \n",
    "  parent = f\"{basefolder}_transfered/{pseudo_remark}\"\n",
    "  pathlib.Path(parent).mkdir(parents=True, exist_ok=True)\n",
    "  \n",
    "  newfilename = \".\".join([pseudo_remark, filepath.split('/')[-1]])\n",
    "  new_dst = \"/\".join([parent, newfilename])\n",
    "  \n",
    "  copyfile(filepath, new_dst)"
   ]
  },
  {
   "cell_type": "markdown",
   "metadata": {},
   "source": [
    "# gen private test"
   ]
  },
  {
   "cell_type": "code",
   "execution_count": 47,
   "metadata": {},
   "outputs": [
    {
     "data": {
      "application/vnd.jupyter.widget-view+json": {
       "model_id": "38dce9ebe710424d9fc96cffa3db338a",
       "version_major": 2,
       "version_minor": 0
      },
      "text/plain": [
       "  0%|          | 0/20000 [00:00<?, ?it/s]"
      ]
     },
     "metadata": {},
     "output_type": "display_data"
    }
   ],
   "source": [
    "basefolder = \"private_test\"\n",
    "for filepath in tqdm(sorted(glob.glob(f\"{basefolder}/*.wav\"))):\n",
    "  filename = filepath.split(\"/\")[-1].split(\".\")[0]\n",
    "  \n",
    "  label = 5\n",
    "  pseudo_remark = config.idx_to_lb[label]\n",
    "  \n",
    "  parent = f\"{basefolder}_transfered/{pseudo_remark}\"\n",
    "  pathlib.Path(parent).mkdir(parents=True, exist_ok=True)\n",
    "  \n",
    "  newfilename = \".\".join([pseudo_remark, filepath.split('/')[-1]])\n",
    "  new_dst = \"/\".join([parent, newfilename])\n",
    "  \n",
    "  copyfile(filepath, new_dst)"
   ]
  },
  {
   "cell_type": "code",
   "execution_count": null,
   "metadata": {},
   "outputs": [],
   "source": []
  }
 ],
 "metadata": {
  "kernelspec": {
   "display_name": "Python 3",
   "language": "python",
   "name": "python3"
  },
  "language_info": {
   "codemirror_mode": {
    "name": "ipython",
    "version": 3
   },
   "file_extension": ".py",
   "mimetype": "text/x-python",
   "name": "python",
   "nbconvert_exporter": "python",
   "pygments_lexer": "ipython3",
   "version": "3.7.6"
  }
 },
 "nbformat": 4,
 "nbformat_minor": 4
}
